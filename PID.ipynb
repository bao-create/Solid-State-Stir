{
  "nbformat": 4,
  "nbformat_minor": 0,
  "metadata": {
    "colab": {
      "name": "PID.ipynb",
      "provenance": [],
      "collapsed_sections": [],
      "authorship_tag": "ABX9TyOqWu+nhJWmYqAaaou+WzpG",
      "include_colab_link": true
    },
    "kernelspec": {
      "name": "python3",
      "display_name": "Python 3"
    }
  },
  "cells": [
    {
      "cell_type": "markdown",
      "metadata": {
        "id": "view-in-github",
        "colab_type": "text"
      },
      "source": [
        "<a href=\"https://colab.research.google.com/github/bao-create/Solid-State-Stir/blob/master/PID.ipynb\" target=\"_parent\"><img src=\"https://colab.research.google.com/assets/colab-badge.svg\" alt=\"Open In Colab\"/></a>"
      ]
    },
    {
      "cell_type": "code",
      "metadata": {
        "id": "YAfk1cUOcJCA"
      },
      "source": [
        "import RPi.gpio as io\r\n",
        "\r\n",
        "\r\n",
        "#def pid_loop(setpoint)\r\n",
        "#pid= PID(1,1,0,1)\r\n",
        "io.setmode(GPIO.BOARD) #board pin numbering\r\n",
        "\r\n",
        "\r\n",
        "\r\n",
        "\r\n",
        "\r\n"
      ],
      "execution_count": null,
      "outputs": []
    },
    {
      "cell_type": "code",
      "metadata": {
        "id": "hSGQVUphoAtg"
      },
      "source": [
        "import thread\r\n",
        "from queue import Queue\r\n",
        "import time\r\n",
        "import simple-PID\r\n",
        "#from ross_shit.py import gui_start\r\n",
        "#from pid_shit.py import pid_init\r\n",
        "\r\n",
        "def gui_start(in_q): #dummy gui function. this will actually be rosses code\r\n",
        "  def main:\r\n",
        "    def update_button: # this is a function within his code as well. \r\n",
        "      in_q.put(state)\r\n",
        "      return\r\n",
        "    return\r\n",
        "def pid_init(out_q): # this is going to be either the main.py file or its own.\r\n",
        "  \r\n",
        "  pid = PID(1,1,1) #init PID object\r\n",
        "  pid.sample_time = .1 #how often the pid creates an output\r\n",
        "  while True: #pid loop\r\n",
        "    state = out_q.get() #get the current data for run and setpoint\r\n",
        "    if state.run:\r\n",
        "      pid.setpoint = state.setpoint() #set the setpoint based on GUI\r\n",
        "      \r\n",
        "      \r\n",
        "      #do the serial read shit based on number of thermocouples, and \r\n",
        "\r\n",
        "\r\n",
        "      current_temp = [1,1,1,1,1,1,1,1,1,1,1,1,1] #full array of TC values\r\n",
        "      state.temp = current_temp #update state variable\r\n",
        "      state.time_pid = time.time() #update time when this was taken\r\n",
        "      output = pid(state.temp[1:4]) #get the PID output where 1:4 is a placeholder for the state varible controlling what TC are controlling the temp\r\n",
        "    else: #if run=false\r\n",
        "      output = 0 #no input to SCR\r\n",
        "      \r\n",
        "    #do gpio pwm shit to the low pass filter to control the power\r\n",
        "\r\n",
        "    out_q.put(state) #update temperature\r\n",
        "    out_q.task_done() #not sure what .task_done is. part of queue lib.\r\n",
        "\r\n",
        "    time.sleep(pid.sample_time) # slow down the PID loop\r\n",
        "\r\n",
        "\r\n",
        "class Thread_maker (threading.Thread): #makes the threads with names\r\n",
        "   def __init__(self, threadID, name,target_line,args_line):\r\n",
        "      threading.Thread.__init__(self)\r\n",
        "      self.threadID = threadID\r\n",
        "      self.name = name\r\n",
        "      self.target = target_line\r\n",
        "      self.args=args_line\r\n",
        "\r\n",
        "      return\r\n",
        "class system_state: # system state class, needs to be updated with rosses code\r\n",
        "  def __init__ (self, run, temp, measure, setpoint,time_pid):\r\n",
        "    self.run = False #are we running the system\r\n",
        "    self.temp = [0,0,0,0,0,0,0,0,0,0,0,0,0] #temperature array, thermos 1-13\r\n",
        "    self.measure = True #PID from the bed(false) or substrate (true)\r\n",
        "    self.setpoint = 400    #temp setpoint\r\n",
        "    self.time_pid = time.time()\r\n",
        "    return\r\n",
        "q = Queue() #the queue object for passing info back and forth\r\n",
        "\r\n",
        "gui_thread = Thread_maker(1, \"gui_thread\",gui_start,(q, )) #thread creation for gui and pid\r\n",
        "pid_thread = Thread_maker(2, \"pid_thread\",pid_init,(q, ))\r\n",
        "  \r\n",
        "#might need .start() calls here"
      ],
      "execution_count": null,
      "outputs": []
    }
  ]
}